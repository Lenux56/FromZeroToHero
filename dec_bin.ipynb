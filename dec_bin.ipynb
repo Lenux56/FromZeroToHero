{
 "cells": [
  {
   "cell_type": "code",
   "execution_count": 9,
   "metadata": {},
   "outputs": [],
   "source": [
    "def dec_to_bin(n, res):\n",
    "    if n < 2:\n",
    "        res.append(int(n))\n",
    "        res.reverse()\n",
    "        return res\n",
    "    \n",
    "    res.append(int(n%2))\n",
    "    return dec_to_bin(n//2, res)\n",
    "    "
   ]
  },
  {
   "cell_type": "code",
   "execution_count": 13,
   "metadata": {},
   "outputs": [
    {
     "name": "stdout",
     "output_type": "stream",
     "text": [
      "1000011\n"
     ]
    }
   ],
   "source": [
    "r = dec_to_bin(67, [])\n",
    "print(''.join(str(x) for x in r)) \n",
    "\n"
   ]
  }
 ],
 "metadata": {
  "kernelspec": {
   "display_name": "Python 3",
   "language": "python",
   "name": "python3"
  },
  "language_info": {
   "codemirror_mode": {
    "name": "ipython",
    "version": 3
   },
   "file_extension": ".py",
   "mimetype": "text/x-python",
   "name": "python",
   "nbconvert_exporter": "python",
   "pygments_lexer": "ipython3",
   "version": "3.7.6"
  }
 },
 "nbformat": 4,
 "nbformat_minor": 4
}
