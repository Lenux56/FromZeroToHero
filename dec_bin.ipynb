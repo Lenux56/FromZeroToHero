{
 "cells": [
  {
   "cell_type": "code",
   "execution_count": 17,
   "metadata": {},
   "outputs": [],
   "source": [
    "def dec_to_bin(n, res_list):\n",
    "    if n < 2:\n",
    "        res_list.append(int(n))\n",
    "        res_list.reverse()\n",
    "        return ''.join(map(str, res_list))\n",
    "    \n",
    "    res_list.append(int(n%2))\n",
    "    return dec_to_bin(n//2, res_list)\n",
    "    \n",
    "\n",
    "def bin_to_dec(n):\n",
    "    \n",
    "    return sum((int(x)*2**(len(n)-i-1) for i,x in enumerate(n)))\n",
    "\n",
    "\n",
    "def convert(n, system):\n",
    "    \n",
    "    if not (int(n) or str(n)):\n",
    "        return 'Error type of number. Accepet str and int'\n",
    "    \n",
    "    if system == 'dec':\n",
    "        if not set(str(n)).issubset({'0', '1'}):\n",
    "            return f'Input {n} is not binary number'\n",
    "        try:\n",
    "            return bin_to_dec(str(n))\n",
    "        except:\n",
    "            return f'Programm can`t convert {n} in the {system}'\n",
    "    elif system == 'bin':\n",
    "        try:\n",
    "            return dec_to_bin(n, [])\n",
    "        except:\n",
    "            return f'Programm can`t convert {n} in the {system}'\n",
    "    else:\n",
    "        return 'Error type of system. We convert to the dec or the bin'\n",
    "            \n",
    "            "
   ]
  },
  {
   "cell_type": "code",
   "execution_count": 21,
   "metadata": {},
   "outputs": [
    {
     "name": "stdout",
     "output_type": "stream",
     "text": [
      "1000011\n",
      "1000011 11\n",
      "10011100011011 19\n"
     ]
    }
   ],
   "source": [
    "r = dec_to_bin(67, [])\n",
    "print(r) \n",
    "dec = bin_to_dec('1011')\n",
    "print(r, dec) \n",
    "print(convert(10011, 'bin'), convert('10011', 'dec'))"
   ]
  }
 ],
 "metadata": {
  "kernelspec": {
   "display_name": "Python 3",
   "language": "python",
   "name": "python3"
  },
  "language_info": {
   "codemirror_mode": {
    "name": "ipython",
    "version": 3
   },
   "file_extension": ".py",
   "mimetype": "text/x-python",
   "name": "python",
   "nbconvert_exporter": "python",
   "pygments_lexer": "ipython3",
   "version": "3.7.6"
  }
 },
 "nbformat": 4,
 "nbformat_minor": 4
}
