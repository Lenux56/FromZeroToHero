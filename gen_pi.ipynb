{
 "cells": [
  {
   "cell_type": "code",
   "execution_count": null,
   "metadata": {},
   "outputs": [
    {
     "name": "stdout",
     "output_type": "stream",
     "text": [
      "Enter a number of decimal places to pi 100000\n"
     ]
    }
   ],
   "source": [
    "from decimal import Decimal, getcontext\n",
    "\n",
    "\n",
    "def gen_pi(n):\n",
    "    '''\n",
    "    The Chudnovsky algorithm is a fast method for calculating the digits of π, based on Ramanujan’s π formulae.\n",
    "    https://en.wikipedia.org/wiki/Chudnovsky_algorithm\n",
    "    '''\n",
    "    pi = 0\n",
    "    getcontext().prec=n+2\n",
    "    M, L, X, K, S = 1, 13591409, 1, 6, 13591409 \n",
    "    try:\n",
    "        for i in range(1,n):\n",
    "            M *= (K**3 - 16*K)/Decimal((i + 1)**3)\n",
    "            L += 545140134\n",
    "            X *= Decimal(-262537412640768000)\n",
    "            K += 12\n",
    "            S += Decimal(M*L)/Decimal(X)\n",
    "    except MemoryError:\n",
    "        return 'Memory is out'\n",
    "    except OverflowError:\n",
    "        return 'Memory is out'\n",
    "    else:    \n",
    "        return 426880*Decimal(10005**0.5)/Decimal(S)    \n",
    "    \n",
    "def check_input():\n",
    "    '''\n",
    "    Check the input number and return it if it`s ok\n",
    "    '''\n",
    "    while True:\n",
    "        try:\n",
    "            x = int(input('Enter a number of decimal places to pi '))\n",
    "            if x >= 1000000:\n",
    "                print('Number is too large, please try again')\n",
    "                continue\n",
    "            elif x < 1:\n",
    "                print('Number is too small, please try again')\n",
    "                continue\n",
    "        except:\n",
    "            print('The input is wrong, please try again')\n",
    "            continue\n",
    "        break\n",
    "    \n",
    "    return x \n",
    "  \n",
    "print(gen_pi(check_input()))\n",
    "    "
   ]
  },
  {
   "cell_type": "code",
   "execution_count": null,
   "metadata": {},
   "outputs": [],
   "source": []
  },
  {
   "cell_type": "code",
   "execution_count": null,
   "metadata": {},
   "outputs": [],
   "source": []
  },
  {
   "cell_type": "code",
   "execution_count": null,
   "metadata": {},
   "outputs": [],
   "source": []
  }
 ],
 "metadata": {
  "kernelspec": {
   "display_name": "Python 3",
   "language": "python",
   "name": "python3"
  },
  "language_info": {
   "codemirror_mode": {
    "name": "ipython",
    "version": 3
   },
   "file_extension": ".py",
   "mimetype": "text/x-python",
   "name": "python",
   "nbconvert_exporter": "python",
   "pygments_lexer": "ipython3",
   "version": "3.7.6"
  }
 },
 "nbformat": 4,
 "nbformat_minor": 4
}
