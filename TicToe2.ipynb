{
 "cells": [
  {
   "cell_type": "code",
   "execution_count": 3,
   "metadata": {},
   "outputs": [],
   "source": [
    "from IPython.display import clear_output\n",
    "import random\n",
    "\n",
    "def display_boardOld(board):\n",
    "    for i,a in enumerate(board):\n",
    "        if i == 0:\n",
    "            clear_output() \n",
    "        else:    \n",
    "            print(f' {a}', end=' ')\n",
    "            if i%3 == 0 and i<len(board)-1:\n",
    "                print('')\n",
    "                print('--------------')\n",
    "            elif i<len(board)-1:\n",
    "                print('|', end=' ')\n",
    "\n",
    "\n",
    "def display_board(board):\n",
    "    clear_output() \n",
    "    for i in range(1,len(board), 3):\n",
    "        print('', end = ' ')\n",
    "        print(' | '.join(board[i:i+3]))\n",
    "        if i<len(board)-3:\n",
    "            print('-----------')\n",
    "        \n",
    "    \n",
    "def player_input():\n",
    "    marker = input(\"Please pick a marker 'X' or 'O' \")\n",
    "    while not(marker == 'X' or marker =='O'):\n",
    "        marker = input(\"The marker is undefined! Write correct marker \\n Please pick a marker 'X' or 'O' \")   \n",
    "    if marker == 'X':\n",
    "        return ('X', 'O') \n",
    "    else:\n",
    "        return ('O', 'X')    \n",
    "        \n",
    "def place_marker(board, marker, position):\n",
    "    board[position] = marker\n",
    "    \n",
    "def win_check(board, mark):\n",
    "    win = [mark for i in range(3)]\n",
    "    for i in range(1,len(board), 3):\n",
    "        if board[i:i+3] == win:\n",
    "            return True\n",
    "        if board[i:len(board):3] == win:\n",
    "            return True\n",
    "    if board[1:len(board):4] == win:\n",
    "        return True\n",
    "    if board[3:len(board)-2:2] == win:\n",
    "        return True\n",
    "    return False\n",
    "\n",
    "def choose_first():\n",
    "    print('The first step by player ', random.randint(1, 2))\n",
    "    \n",
    "def space_check(board, position):\n",
    "    return board[position] == ' '\n",
    "\n",
    "def full_board_check(board):\n",
    "    return ' ' in board[1:]\n",
    "\n",
    "def player_choice(board):\n",
    "    position = 0\n",
    "    while position not in [1,2,3,4,5,6,7,8,9] and not space_check(board, position):\n",
    "        position = int(input(\"Please input number from 1 to 9 \"))\n",
    "    #if space_check(board, position):\n",
    "        return position\n",
    "    #else:\n",
    "    #    player_choice(board)\n",
    "\n",
    "def replay():\n",
    "    want = '' \n",
    "    while want not in ['Y','N']:\n",
    "        want = input(\"Do you want play 'Y' or 'N' \") \n",
    "    if want == 'Y':\n",
    "        return True\n",
    "    return False\n",
    "  \n",
    "def tictac():\n",
    "    test_board = [' ']*10\n",
    "    print('Welcome to Tic Tac Toe!')\n",
    "    \n",
    "    \n",
    "    while True:\n",
    "        display_board(test_board)\n",
    "        choose_first()\n",
    "        firstpl, secondpl = player_input()\n",
    "        game_on = replay()\n",
    "        \n",
    "        while game_on:\n",
    "            \n",
    "            position = player_choice(test_board)\n",
    "            place_marker(test_board, firstpl, position)\n",
    "            display_board(test_board)\n",
    "\n",
    "            if win_check(test_board, firstpl):\n",
    "                print('Congratulation player1! You win')\n",
    "                game_on = False\n",
    "            if full_board_check(test_board):\n",
    "                print('Tie game!')\n",
    "                game_on = False\n",
    "            \n",
    "            \n",
    "            position = player_choice(test_board)\n",
    "            place_marker(test_board, secondpl, position)\n",
    "            display_board(test_board)\n",
    "            \n",
    "            if win_check(test_board, secondpl):\n",
    "                print('Congratulation player2! You win')\n",
    "                game_on = False\n",
    "            if full_board_check(test_board):\n",
    "                print('Game over!')\n",
    "                game_on = False\n",
    "            \n",
    "            \n",
    "        if not replay():\n",
    "            break       "
   ]
  },
  {
   "cell_type": "code",
   "execution_count": 171,
   "metadata": {},
   "outputs": [
    {
     "name": "stdout",
     "output_type": "stream",
     "text": [
      " X | O | X\n",
      "-----------\n",
      " O | X | O\n",
      "-----------\n",
      " X | $ | X\n",
      "The first step by player  2\n"
     ]
    },
    {
     "data": {
      "text/plain": [
       "True"
      ]
     },
     "execution_count": 171,
     "metadata": {},
     "output_type": "execute_result"
    }
   ],
   "source": [
    "test_board = ['#',' ',' ',' ',' ',' ',' ',' ',' ',' ']\n",
    "display_board(test_board)\n",
    "place_marker(test_board,'$',8)\n",
    "display_board(test_board)\n",
    "win_check(test_board, 'X')\n",
    "choose_first()\n",
    "space_check(test_board, 1)\n",
    "full_board_check(test_board)"
   ]
  },
  {
   "cell_type": "code",
   "execution_count": 5,
   "metadata": {},
   "outputs": [
    {
     "name": "stdout",
     "output_type": "stream",
     "text": [
      " X |   |  \n",
      "-----------\n",
      "   |   |  \n",
      "-----------\n",
      "   |   |  \n",
      "Please input number from 1 to 9 1\n",
      "Please input number from 1 to 9 \n"
     ]
    },
    {
     "ename": "ValueError",
     "evalue": "invalid literal for int() with base 10: ''",
     "output_type": "error",
     "traceback": [
      "\u001b[1;31m---------------------------------------------------------------------------\u001b[0m",
      "\u001b[1;31mValueError\u001b[0m                                Traceback (most recent call last)",
      "\u001b[1;32m<ipython-input-5-844eadaad203>\u001b[0m in \u001b[0;36m<module>\u001b[1;34m\u001b[0m\n\u001b[1;32m----> 1\u001b[1;33m \u001b[0mtictac\u001b[0m\u001b[1;33m(\u001b[0m\u001b[1;33m)\u001b[0m\u001b[1;33m\u001b[0m\u001b[1;33m\u001b[0m\u001b[0m\n\u001b[0m",
      "\u001b[1;32m<ipython-input-3-393db8fa7dad>\u001b[0m in \u001b[0;36mtictac\u001b[1;34m()\u001b[0m\n\u001b[0;32m    104\u001b[0m \u001b[1;33m\u001b[0m\u001b[0m\n\u001b[0;32m    105\u001b[0m \u001b[1;33m\u001b[0m\u001b[0m\n\u001b[1;32m--> 106\u001b[1;33m             \u001b[0mposition\u001b[0m \u001b[1;33m=\u001b[0m \u001b[0mplayer_choice\u001b[0m\u001b[1;33m(\u001b[0m\u001b[0mtest_board\u001b[0m\u001b[1;33m)\u001b[0m\u001b[1;33m\u001b[0m\u001b[1;33m\u001b[0m\u001b[0m\n\u001b[0m\u001b[0;32m    107\u001b[0m             \u001b[0mplace_marker\u001b[0m\u001b[1;33m(\u001b[0m\u001b[0mtest_board\u001b[0m\u001b[1;33m,\u001b[0m \u001b[0msecondpl\u001b[0m\u001b[1;33m,\u001b[0m \u001b[0mposition\u001b[0m\u001b[1;33m)\u001b[0m\u001b[1;33m\u001b[0m\u001b[1;33m\u001b[0m\u001b[0m\n\u001b[0;32m    108\u001b[0m             \u001b[0mdisplay_board\u001b[0m\u001b[1;33m(\u001b[0m\u001b[0mtest_board\u001b[0m\u001b[1;33m)\u001b[0m\u001b[1;33m\u001b[0m\u001b[1;33m\u001b[0m\u001b[0m\n",
      "\u001b[1;32m<ipython-input-3-393db8fa7dad>\u001b[0m in \u001b[0;36mplayer_choice\u001b[1;34m(board)\u001b[0m\n\u001b[0;32m     70\u001b[0m         \u001b[1;32mreturn\u001b[0m \u001b[0mposition\u001b[0m\u001b[1;33m\u001b[0m\u001b[1;33m\u001b[0m\u001b[0m\n\u001b[0;32m     71\u001b[0m     \u001b[1;32melse\u001b[0m\u001b[1;33m:\u001b[0m\u001b[1;33m\u001b[0m\u001b[1;33m\u001b[0m\u001b[0m\n\u001b[1;32m---> 72\u001b[1;33m         \u001b[0mplayer_choice\u001b[0m\u001b[1;33m(\u001b[0m\u001b[0mboard\u001b[0m\u001b[1;33m)\u001b[0m\u001b[1;33m\u001b[0m\u001b[1;33m\u001b[0m\u001b[0m\n\u001b[0m\u001b[0;32m     73\u001b[0m \u001b[1;33m\u001b[0m\u001b[0m\n\u001b[0;32m     74\u001b[0m \u001b[1;32mdef\u001b[0m \u001b[0mreplay\u001b[0m\u001b[1;33m(\u001b[0m\u001b[1;33m)\u001b[0m\u001b[1;33m:\u001b[0m\u001b[1;33m\u001b[0m\u001b[1;33m\u001b[0m\u001b[0m\n",
      "\u001b[1;32m<ipython-input-3-393db8fa7dad>\u001b[0m in \u001b[0;36mplayer_choice\u001b[1;34m(board)\u001b[0m\n\u001b[0;32m     64\u001b[0m \u001b[1;33m\u001b[0m\u001b[0m\n\u001b[0;32m     65\u001b[0m \u001b[1;32mdef\u001b[0m \u001b[0mplayer_choice\u001b[0m\u001b[1;33m(\u001b[0m\u001b[0mboard\u001b[0m\u001b[1;33m)\u001b[0m\u001b[1;33m:\u001b[0m\u001b[1;33m\u001b[0m\u001b[1;33m\u001b[0m\u001b[0m\n\u001b[1;32m---> 66\u001b[1;33m     \u001b[0mposition\u001b[0m \u001b[1;33m=\u001b[0m \u001b[0mint\u001b[0m\u001b[1;33m(\u001b[0m\u001b[0minput\u001b[0m\u001b[1;33m(\u001b[0m\u001b[1;34m\"Please input number from 1 to 9 \"\u001b[0m\u001b[1;33m)\u001b[0m\u001b[1;33m)\u001b[0m\u001b[1;33m\u001b[0m\u001b[1;33m\u001b[0m\u001b[0m\n\u001b[0m\u001b[0;32m     67\u001b[0m     \u001b[1;32mwhile\u001b[0m \u001b[0mposition\u001b[0m \u001b[1;33m>\u001b[0m \u001b[1;36m9\u001b[0m \u001b[1;32mor\u001b[0m \u001b[0mposition\u001b[0m \u001b[1;33m<\u001b[0m \u001b[1;36m1\u001b[0m\u001b[1;33m:\u001b[0m\u001b[1;33m\u001b[0m\u001b[1;33m\u001b[0m\u001b[0m\n\u001b[0;32m     68\u001b[0m         \u001b[0mposition\u001b[0m \u001b[1;33m=\u001b[0m \u001b[0mint\u001b[0m\u001b[1;33m(\u001b[0m\u001b[0minput\u001b[0m\u001b[1;33m(\u001b[0m\u001b[1;34m\"The number is wrong! Write correct number \"\u001b[0m\u001b[1;33m)\u001b[0m\u001b[1;33m)\u001b[0m\u001b[1;33m\u001b[0m\u001b[1;33m\u001b[0m\u001b[0m\n",
      "\u001b[1;31mValueError\u001b[0m: invalid literal for int() with base 10: ''"
     ]
    }
   ],
   "source": [
    "tictac()"
   ]
  },
  {
   "cell_type": "code",
   "execution_count": null,
   "metadata": {},
   "outputs": [],
   "source": []
  }
 ],
 "metadata": {
  "kernelspec": {
   "display_name": "Python 3",
   "language": "python",
   "name": "python3"
  },
  "language_info": {
   "codemirror_mode": {
    "name": "ipython",
    "version": 3
   },
   "file_extension": ".py",
   "mimetype": "text/x-python",
   "name": "python",
   "nbconvert_exporter": "python",
   "pygments_lexer": "ipython3",
   "version": "3.7.3"
  }
 },
 "nbformat": 4,
 "nbformat_minor": 2
}
