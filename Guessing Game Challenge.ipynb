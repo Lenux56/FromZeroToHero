{
 "cells": [
  {
   "cell_type": "code",
   "execution_count": 26,
   "metadata": {},
   "outputs": [],
   "source": [
    "import random\n",
    "\n",
    "def game():\n",
    "    number_list = []\n",
    "    \n",
    "    num = random.randint(1,100)\n",
    "    \n",
    "    print('''\\nThe rules are:\n",
    "If a player's guess is less than 1 or greater than 100, say \"OUT OF BOUNDS\"\n",
    "On a player's first turn, if their guess is\n",
    "within 10 of the number, return \"WARM!\"\n",
    "further than 10 away from the number, return \"COLD!\"\n",
    "On all subsequent turns, if a guess is\n",
    "closer to the number than the previous guess return \"WARMER!\"\n",
    "farther from the number than the previous guess, return \"COLDER!\"\n",
    "When the player's guess equals the number, tell them they've guessed correctly and how many guesses it took!\\n''')\n",
    "   \n",
    "    while True:\n",
    "        player_num = 0\n",
    "        while not (0 < player_num < 101):\n",
    "            try:\n",
    "                player_num = int(input('Please, write a number: '))\n",
    "            except:\n",
    "                print('You need to write integer')\n",
    "            else:\n",
    "                if 0 > player_num or player_num > 100:\n",
    "                    print('Out of bounds')\n",
    "       \n",
    "        number_list.append(player_num)\n",
    "        if player_num == num:\n",
    "            print(f'CONGRATULATIONS, YOU GUESSED IT IN ONLY {len(number_list)} GUESSES!!')\n",
    "            break\n",
    "        elif len(number_list) == 1:     \n",
    "            if abs(num - player_num) <= 10:\n",
    "                print('Warm')\n",
    "            else:\n",
    "                print('Cold')\n",
    "        else:\n",
    "            if abs(num - player_num) < abs(num - number_list[-2]):\n",
    "                print('Warmer')\n",
    "            else:\n",
    "                print('Colder')\n",
    "                \n",
    "    \n",
    "    \n",
    "        "
   ]
  }
 ],
 "metadata": {
  "kernelspec": {
   "display_name": "Python 3",
   "language": "python",
   "name": "python3"
  },
  "language_info": {
   "codemirror_mode": {
    "name": "ipython",
    "version": 3
   },
   "file_extension": ".py",
   "mimetype": "text/x-python",
   "name": "python",
   "nbconvert_exporter": "python",
   "pygments_lexer": "ipython3",
   "version": "3.7.6"
  }
 },
 "nbformat": 4,
 "nbformat_minor": 4
}
